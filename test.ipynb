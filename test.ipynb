{
 "cells": [
  {
   "cell_type": "code",
   "execution_count": 1,
   "metadata": {},
   "outputs": [],
   "source": [
    "import pyspark\n",
    "from pyspark.sql import SparkSession, Row\n",
    "from pyspark.sql.functions import *\n",
    "\n",
    "from delta import *\n",
    "from delta.tables import *\n",
    "import os\n"
   ]
  },
  {
   "cell_type": "code",
   "execution_count": 2,
   "metadata": {},
   "outputs": [],
   "source": [
    "builder = pyspark.sql.SparkSession.builder.appName(\"MyApp\") \\\n",
    "    .config(\"spark.sql.extensions\", \"io.delta.sql.DeltaSparkSessionExtension\") \\\n",
    "    .config(\"spark.sql.catalog.spark_catalog\", \"org.apache.spark.sql.delta.catalog.DeltaCatalog\")\n",
    "\n",
    "spark = configure_spark_with_delta_pip(builder).getOrCreate()"
   ]
  },
  {
   "cell_type": "code",
   "execution_count": 3,
   "metadata": {},
   "outputs": [],
   "source": [
    "data = spark.range(0, 5)\n",
    "data.write.format(\"delta\").save(\"tmp/delta-table\")"
   ]
  },
  {
   "cell_type": "code",
   "execution_count": 4,
   "metadata": {},
   "outputs": [],
   "source": [
    "deltaTable = DeltaTable.forPath(spark, \"tmp/delta-table\")"
   ]
  },
  {
   "cell_type": "code",
   "execution_count": 5,
   "metadata": {},
   "outputs": [],
   "source": [
    "# update and delete (auto applies to the data, not just the varaiable)\n",
    "deltaTable.update(\n",
    "    condition = expr(\"id % 2 == 0\"),\n",
    "    set = { \"id\": expr(\"id + 100\") }\n",
    ")\n",
    "deltaTable.delete(condition = expr(\"id % 2 != 0\"))\n"
   ]
  },
  {
   "cell_type": "code",
   "execution_count": 6,
   "metadata": {},
   "outputs": [
    {
     "name": "stdout",
     "output_type": "stream",
     "text": [
      "+---+\n",
      "| id|\n",
      "+---+\n",
      "|100|\n",
      "|102|\n",
      "|104|\n",
      "+---+\n",
      "\n"
     ]
    }
   ],
   "source": [
    "deltaTable.toDF().show()"
   ]
  },
  {
   "cell_type": "code",
   "execution_count": 7,
   "metadata": {},
   "outputs": [],
   "source": [
    "newData = spark.range(0, 20)\n",
    "\n",
    "deltaTable.alias(\"oldData\").merge(\n",
    "    newData.alias(\"newData\"), \"oldData.id = newData.id\"\n",
    ").whenMatchedUpdate(\n",
    "    set = { \"id\": col(\"newData.id\") }\n",
    ").whenNotMatchedInsert(\n",
    "    values = { \"id\": col(\"newData.id\") }\n",
    ").execute()"
   ]
  },
  {
   "cell_type": "code",
   "execution_count": 8,
   "metadata": {},
   "outputs": [
    {
     "name": "stdout",
     "output_type": "stream",
     "text": [
      "+---+\n",
      "| id|\n",
      "+---+\n",
      "|  3|\n",
      "|  4|\n",
      "|  8|\n",
      "|  9|\n",
      "| 18|\n",
      "| 19|\n",
      "| 13|\n",
      "| 14|\n",
      "|  0|\n",
      "| 11|\n",
      "|  7|\n",
      "| 15|\n",
      "|  5|\n",
      "| 17|\n",
      "|100|\n",
      "|  1|\n",
      "|  6|\n",
      "|102|\n",
      "| 12|\n",
      "|  2|\n",
      "+---+\n",
      "only showing top 20 rows\n",
      "\n"
     ]
    }
   ],
   "source": [
    "deltaTable.toDF().show()"
   ]
  },
  {
   "cell_type": "code",
   "execution_count": 14,
   "metadata": {},
   "outputs": [
    {
     "name": "stdout",
     "output_type": "stream",
     "text": [
      "+---+\n",
      "| id|\n",
      "+---+\n",
      "|100|\n",
      "|102|\n",
      "|104|\n",
      "+---+\n",
      "\n"
     ]
    }
   ],
   "source": [
    "df = spark.read.format(\"delta\").option(\"versionAsOf\", 2).load(\"tmp/delta-table\")\n",
    "df.show()"
   ]
  },
  {
   "cell_type": "code",
   "execution_count": 49,
   "metadata": {},
   "outputs": [
    {
     "name": "stdout",
     "output_type": "stream",
     "text": [
      "+-----+---------+----------+------+----+--------------------+-------------------+-----------+\n",
      "|   id|   domain|aggregator|sensor|axis|               value|        create_time|test_div_id|\n",
      "+-----+---------+----------+------+----+--------------------+-------------------+-----------+\n",
      "|75331|     time|    ECDF_0|   IMU|   X|3.607920106217168...|2023-07-06 13:19:36|      95941|\n",
      "|75332|     time|    ECDF_0|   IMU|   Y|3.607920106217168...|2023-07-06 13:19:36|      95941|\n",
      "|75333|     time|    ECDF_0|   IMU|   Z|3.607920106217168...|2023-07-06 13:19:36|      95941|\n",
      "|75334|     time|    ECDF_0|   IMU|  GX|3.607920106217168...|2023-07-06 13:19:36|      95941|\n",
      "|75335|     time|    ECDF_0|   IMU|  GY|3.607920106217168...|2023-07-06 13:19:36|      95941|\n",
      "|75336|     time|    ECDF_0|   IMU|  GZ|3.607920106217168...|2023-07-06 13:19:36|      95941|\n",
      "|75337|     time|    ECDF_0|   ACC|   X|2.258406919758802...|2023-07-06 13:19:36|      95941|\n",
      "|75338|     time|    ECDF_0|   ACC|   Y|2.258406919758802...|2023-07-06 13:19:36|      95941|\n",
      "|75339|     time|    ECDF_0|   ACC|   Z|2.258406919758802...|2023-07-06 13:19:36|      95941|\n",
      "|75340|frequency|    ECDF_0|   CBM|   X|0.000672043010752...|2023-07-06 13:19:36|      95941|\n",
      "|75341|frequency|    ECDF_0|   CBM|   Y|0.000672043010752...|2023-07-06 13:19:36|      95941|\n",
      "|75342|frequency|    ECDF_0|   CBM|   Z|0.000672043010752...|2023-07-06 13:19:36|      95941|\n",
      "|75343|     time|    ECDF_1|   IMU|   X|7.215840212434336...|2023-07-06 13:19:36|      95941|\n",
      "|75344|     time|    ECDF_1|   IMU|   Y|7.215840212434336...|2023-07-06 13:19:36|      95941|\n",
      "|75345|     time|    ECDF_1|   IMU|   Z|7.215840212434336...|2023-07-06 13:19:36|      95941|\n",
      "|75346|     time|    ECDF_1|   IMU|  GX|7.215840212434336...|2023-07-06 13:19:36|      95941|\n",
      "|75347|     time|    ECDF_1|   IMU|  GY|7.215840212434336...|2023-07-06 13:19:36|      95941|\n",
      "|75348|     time|    ECDF_1|   IMU|  GZ|7.215840212434336...|2023-07-06 13:19:36|      95941|\n",
      "|75349|     time|    ECDF_1|   ACC|   X|4.516813839517604...|2023-07-06 13:19:36|      95941|\n",
      "|75350|     time|    ECDF_1|   ACC|   Y|4.516813839517604...|2023-07-06 13:19:36|      95941|\n",
      "+-----+---------+----------+------+----+--------------------+-------------------+-----------+\n",
      "only showing top 20 rows\n",
      "\n"
     ]
    }
   ],
   "source": [
    "df = spark.read.format(\"csv\").option(\"header\", True).load(\"feature.csv\")\n",
    "\n",
    "df.show()"
   ]
  },
  {
   "cell_type": "code",
   "execution_count": 50,
   "metadata": {},
   "outputs": [
    {
     "ename": "AnalysisException",
     "evalue": "[DELTA_PATH_EXISTS] Cannot write to already existent path file:/c:/Users/AnChengYang/IPerceptProjects/deltalake/tmp/feature without setting OVERWRITE = 'true'.",
     "output_type": "error",
     "traceback": [
      "\u001b[1;31m---------------------------------------------------------------------------\u001b[0m",
      "\u001b[1;31mAnalysisException\u001b[0m                         Traceback (most recent call last)",
      "Cell \u001b[1;32mIn[50], line 1\u001b[0m\n\u001b[1;32m----> 1\u001b[0m \u001b[43mdf\u001b[49m\u001b[38;5;241;43m.\u001b[39;49m\u001b[43mwrite\u001b[49m\u001b[38;5;241;43m.\u001b[39;49m\u001b[43mformat\u001b[49m\u001b[43m(\u001b[49m\u001b[38;5;124;43m\"\u001b[39;49m\u001b[38;5;124;43mdelta\u001b[39;49m\u001b[38;5;124;43m\"\u001b[39;49m\u001b[43m)\u001b[49m\u001b[38;5;241;43m.\u001b[39;49m\u001b[43msave\u001b[49m\u001b[43m(\u001b[49m\u001b[38;5;124;43m\"\u001b[39;49m\u001b[38;5;124;43mtmp/feature\u001b[39;49m\u001b[38;5;124;43m\"\u001b[39;49m\u001b[43m)\u001b[49m\n",
      "File \u001b[1;32m~\\AppData\\Local\\Packages\\PythonSoftwareFoundation.Python.3.11_qbz5n2kfra8p0\\LocalCache\\local-packages\\Python311\\site-packages\\pyspark\\sql\\readwriter.py:1463\u001b[0m, in \u001b[0;36mDataFrameWriter.save\u001b[1;34m(self, path, format, mode, partitionBy, **options)\u001b[0m\n\u001b[0;32m   1461\u001b[0m     \u001b[38;5;28mself\u001b[39m\u001b[38;5;241m.\u001b[39m_jwrite\u001b[38;5;241m.\u001b[39msave()\n\u001b[0;32m   1462\u001b[0m \u001b[38;5;28;01melse\u001b[39;00m:\n\u001b[1;32m-> 1463\u001b[0m     \u001b[38;5;28;43mself\u001b[39;49m\u001b[38;5;241;43m.\u001b[39;49m\u001b[43m_jwrite\u001b[49m\u001b[38;5;241;43m.\u001b[39;49m\u001b[43msave\u001b[49m\u001b[43m(\u001b[49m\u001b[43mpath\u001b[49m\u001b[43m)\u001b[49m\n",
      "File \u001b[1;32m~\\AppData\\Local\\Packages\\PythonSoftwareFoundation.Python.3.11_qbz5n2kfra8p0\\LocalCache\\local-packages\\Python311\\site-packages\\py4j\\java_gateway.py:1322\u001b[0m, in \u001b[0;36mJavaMember.__call__\u001b[1;34m(self, *args)\u001b[0m\n\u001b[0;32m   1316\u001b[0m command \u001b[38;5;241m=\u001b[39m proto\u001b[38;5;241m.\u001b[39mCALL_COMMAND_NAME \u001b[38;5;241m+\u001b[39m\\\n\u001b[0;32m   1317\u001b[0m     \u001b[38;5;28mself\u001b[39m\u001b[38;5;241m.\u001b[39mcommand_header \u001b[38;5;241m+\u001b[39m\\\n\u001b[0;32m   1318\u001b[0m     args_command \u001b[38;5;241m+\u001b[39m\\\n\u001b[0;32m   1319\u001b[0m     proto\u001b[38;5;241m.\u001b[39mEND_COMMAND_PART\n\u001b[0;32m   1321\u001b[0m answer \u001b[38;5;241m=\u001b[39m \u001b[38;5;28mself\u001b[39m\u001b[38;5;241m.\u001b[39mgateway_client\u001b[38;5;241m.\u001b[39msend_command(command)\n\u001b[1;32m-> 1322\u001b[0m return_value \u001b[38;5;241m=\u001b[39m \u001b[43mget_return_value\u001b[49m\u001b[43m(\u001b[49m\n\u001b[0;32m   1323\u001b[0m \u001b[43m    \u001b[49m\u001b[43manswer\u001b[49m\u001b[43m,\u001b[49m\u001b[43m \u001b[49m\u001b[38;5;28;43mself\u001b[39;49m\u001b[38;5;241;43m.\u001b[39;49m\u001b[43mgateway_client\u001b[49m\u001b[43m,\u001b[49m\u001b[43m \u001b[49m\u001b[38;5;28;43mself\u001b[39;49m\u001b[38;5;241;43m.\u001b[39;49m\u001b[43mtarget_id\u001b[49m\u001b[43m,\u001b[49m\u001b[43m \u001b[49m\u001b[38;5;28;43mself\u001b[39;49m\u001b[38;5;241;43m.\u001b[39;49m\u001b[43mname\u001b[49m\u001b[43m)\u001b[49m\n\u001b[0;32m   1325\u001b[0m \u001b[38;5;28;01mfor\u001b[39;00m temp_arg \u001b[38;5;129;01min\u001b[39;00m temp_args:\n\u001b[0;32m   1326\u001b[0m     \u001b[38;5;28;01mif\u001b[39;00m \u001b[38;5;28mhasattr\u001b[39m(temp_arg, \u001b[38;5;124m\"\u001b[39m\u001b[38;5;124m_detach\u001b[39m\u001b[38;5;124m\"\u001b[39m):\n",
      "File \u001b[1;32m~\\AppData\\Local\\Packages\\PythonSoftwareFoundation.Python.3.11_qbz5n2kfra8p0\\LocalCache\\local-packages\\Python311\\site-packages\\pyspark\\errors\\exceptions\\captured.py:185\u001b[0m, in \u001b[0;36mcapture_sql_exception.<locals>.deco\u001b[1;34m(*a, **kw)\u001b[0m\n\u001b[0;32m    181\u001b[0m converted \u001b[38;5;241m=\u001b[39m convert_exception(e\u001b[38;5;241m.\u001b[39mjava_exception)\n\u001b[0;32m    182\u001b[0m \u001b[38;5;28;01mif\u001b[39;00m \u001b[38;5;129;01mnot\u001b[39;00m \u001b[38;5;28misinstance\u001b[39m(converted, UnknownException):\n\u001b[0;32m    183\u001b[0m     \u001b[38;5;66;03m# Hide where the exception came from that shows a non-Pythonic\u001b[39;00m\n\u001b[0;32m    184\u001b[0m     \u001b[38;5;66;03m# JVM exception message.\u001b[39;00m\n\u001b[1;32m--> 185\u001b[0m     \u001b[38;5;28;01mraise\u001b[39;00m converted \u001b[38;5;28;01mfrom\u001b[39;00m \u001b[38;5;28;01mNone\u001b[39;00m\n\u001b[0;32m    186\u001b[0m \u001b[38;5;28;01melse\u001b[39;00m:\n\u001b[0;32m    187\u001b[0m     \u001b[38;5;28;01mraise\u001b[39;00m\n",
      "\u001b[1;31mAnalysisException\u001b[0m: [DELTA_PATH_EXISTS] Cannot write to already existent path file:/c:/Users/AnChengYang/IPerceptProjects/deltalake/tmp/feature without setting OVERWRITE = 'true'."
     ]
    }
   ],
   "source": [
    "df.write.format(\"delta\").save(\"tmp/feature\")\n"
   ]
  },
  {
   "cell_type": "code",
   "execution_count": 15,
   "metadata": {},
   "outputs": [
    {
     "name": "stdout",
     "output_type": "stream",
     "text": [
      "+-----+---------+----------+------+----+--------------------+-------------------+-----------+\n",
      "|   id|   domain|aggregator|sensor|axis|               value|        create_time|test_div_id|\n",
      "+-----+---------+----------+------+----+--------------------+-------------------+-----------+\n",
      "|75331|     time|    ECDF_0|   IMU|   X|3.607920106217168...|2023-07-06 13:19:36|      95941|\n",
      "|75332|     time|    ECDF_0|   IMU|   Y|3.607920106217168...|2023-07-06 13:19:36|      95941|\n",
      "|75333|     time|    ECDF_0|   IMU|   Z|3.607920106217168...|2023-07-06 13:19:36|      95941|\n",
      "|75334|     time|    ECDF_0|   IMU|  GX|3.607920106217168...|2023-07-06 13:19:36|      95941|\n",
      "|75335|     time|    ECDF_0|   IMU|  GY|3.607920106217168...|2023-07-06 13:19:36|      95941|\n",
      "|75336|     time|    ECDF_0|   IMU|  GZ|3.607920106217168...|2023-07-06 13:19:36|      95941|\n",
      "|75337|     time|    ECDF_0|   ACC|   X|2.258406919758802...|2023-07-06 13:19:36|      95941|\n",
      "|75338|     time|    ECDF_0|   ACC|   Y|2.258406919758802...|2023-07-06 13:19:36|      95941|\n",
      "|75339|     time|    ECDF_0|   ACC|   Z|2.258406919758802...|2023-07-06 13:19:36|      95941|\n",
      "|75340|frequency|    ECDF_0|   CBM|   X|0.000672043010752...|2023-07-06 13:19:36|      95941|\n",
      "|75341|frequency|    ECDF_0|   CBM|   Y|0.000672043010752...|2023-07-06 13:19:36|      95941|\n",
      "|75342|frequency|    ECDF_0|   CBM|   Z|0.000672043010752...|2023-07-06 13:19:36|      95941|\n",
      "|75343|     time|    ECDF_1|   IMU|   X|7.215840212434336...|2023-07-06 13:19:36|      95941|\n",
      "|75344|     time|    ECDF_1|   IMU|   Y|7.215840212434336...|2023-07-06 13:19:36|      95941|\n",
      "|75345|     time|    ECDF_1|   IMU|   Z|7.215840212434336...|2023-07-06 13:19:36|      95941|\n",
      "|75346|     time|    ECDF_1|   IMU|  GX|7.215840212434336...|2023-07-06 13:19:36|      95941|\n",
      "|75347|     time|    ECDF_1|   IMU|  GY|7.215840212434336...|2023-07-06 13:19:36|      95941|\n",
      "|75348|     time|    ECDF_1|   IMU|  GZ|7.215840212434336...|2023-07-06 13:19:36|      95941|\n",
      "|75349|     time|    ECDF_1|   ACC|   X|4.516813839517604...|2023-07-06 13:19:36|      95941|\n",
      "|75350|     time|    ECDF_1|   ACC|   Y|4.516813839517604...|2023-07-06 13:19:36|      95941|\n",
      "+-----+---------+----------+------+----+--------------------+-------------------+-----------+\n",
      "only showing top 20 rows\n",
      "\n"
     ]
    }
   ],
   "source": [
    "spark.read.format(\"delta\").load(\"tmp/feature\").show()"
   ]
  },
  {
   "cell_type": "code",
   "execution_count": 16,
   "metadata": {},
   "outputs": [
    {
     "data": {
      "text/plain": [
       "1000"
      ]
     },
     "execution_count": 16,
     "metadata": {},
     "output_type": "execute_result"
    }
   ],
   "source": [
    "spark.read.format(\"delta\").load(\"tmp/feature\").count()"
   ]
  },
  {
   "cell_type": "code",
   "execution_count": 58,
   "metadata": {},
   "outputs": [
    {
     "name": "stdout",
     "output_type": "stream",
     "text": [
      "+-----+---------+----------+------+----+--------------------+-------------------+-----------+\n",
      "|   id|   domain|aggregator|sensor|axis|               value|        create_time|test_div_id|\n",
      "+-----+---------+----------+------+----+--------------------+-------------------+-----------+\n",
      "|75331|     time|    ECDF_0|   IMU|   X|3.607920106217168...|2023-07-06 13:19:36|      95941|\n",
      "|75332|     time|    ECDF_0|   IMU|   Y|3.607920106217168...|2023-07-06 13:19:36|      95941|\n",
      "|75333|     time|    ECDF_0|   IMU|   Z|3.607920106217168...|2023-07-06 13:19:36|      95941|\n",
      "|75334|     time|    ECDF_0|   IMU|  GX|3.607920106217168...|2023-07-06 13:19:36|      95941|\n",
      "|75335|     time|    ECDF_0|   IMU|  GY|3.607920106217168...|2023-07-06 13:19:36|      95941|\n",
      "|75336|     time|    ECDF_0|   IMU|  GZ|3.607920106217168...|2023-07-06 13:19:36|      95941|\n",
      "|75337|     time|    ECDF_0|   ACC|   X|2.258406919758802...|2023-07-06 13:19:36|      95941|\n",
      "|75338|     time|    ECDF_0|   ACC|   Y|2.258406919758802...|2023-07-06 13:19:36|      95941|\n",
      "|75339|     time|    ECDF_0|   ACC|   Z|2.258406919758802...|2023-07-06 13:19:36|      95941|\n",
      "|75340|frequency|    ECDF_0|   CBM|   X|0.000672043010752...|2023-07-06 13:19:36|      95941|\n",
      "|75341|frequency|    ECDF_0|   CBM|   Y|0.000672043010752...|2023-07-06 13:19:36|      95941|\n",
      "|75342|frequency|    ECDF_0|   CBM|   Z|0.000672043010752...|2023-07-06 13:19:36|      95941|\n",
      "|75343|     time|    ECDF_1|   IMU|   X|7.215840212434336...|2023-07-06 13:19:36|      95941|\n",
      "|75344|     time|    ECDF_1|   IMU|   Y|7.215840212434336...|2023-07-06 13:19:36|      95941|\n",
      "|75345|     time|    ECDF_1|   IMU|   Z|7.215840212434336...|2023-07-06 13:19:36|      95941|\n",
      "|75346|     time|    ECDF_1|   IMU|  GX|7.215840212434336...|2023-07-06 13:19:36|      95941|\n",
      "|75347|     time|    ECDF_1|   IMU|  GY|7.215840212434336...|2023-07-06 13:19:36|      95941|\n",
      "|75348|     time|    ECDF_1|   IMU|  GZ|7.215840212434336...|2023-07-06 13:19:36|      95941|\n",
      "|75349|     time|    ECDF_1|   ACC|   X|4.516813839517604...|2023-07-06 13:19:36|      95941|\n",
      "|75350|     time|    ECDF_1|   ACC|   Y|4.516813839517604...|2023-07-06 13:19:36|      95941|\n",
      "+-----+---------+----------+------+----+--------------------+-------------------+-----------+\n",
      "only showing top 20 rows\n",
      "\n",
      "+-----+---------+----------+------+----+--------------------+-------------------+-----------+\n",
      "|   id|   domain|aggregator|sensor|axis|               value|        create_time|test_div_id|\n",
      "+-----+---------+----------+------+----+--------------------+-------------------+-----------+\n",
      "|75331|     time|    ECDF_0|   IMU|   X|3.607920106217168...|2023-07-06 13:19:36|      95941|\n",
      "|75332|     time|    ECDF_0|   IMU|   Y|3.607920106217168...|2023-07-06 13:19:36|      95941|\n",
      "|75333|     time|    ECDF_0|   IMU|   Z|3.607920106217168...|2023-07-06 13:19:36|      95941|\n",
      "|75334|     time|    ECDF_0|   IMU|  GX|3.607920106217168...|2023-07-06 13:19:36|      95941|\n",
      "|75335|     time|    ECDF_0|   IMU|  GY|3.607920106217168...|2023-07-06 13:19:36|      95941|\n",
      "|75336|     time|    ECDF_0|   IMU|  GZ|3.607920106217168...|2023-07-06 13:19:36|      95941|\n",
      "|75337|     time|    ECDF_0|   ACC|   X|2.258406919758802...|2023-07-06 13:19:36|      95941|\n",
      "|75338|     time|    ECDF_0|   ACC|   Y|2.258406919758802...|2023-07-06 13:19:36|      95941|\n",
      "|75339|     time|    ECDF_0|   ACC|   Z|2.258406919758802...|2023-07-06 13:19:36|      95941|\n",
      "|75340|frequency|    ECDF_0|   CBM|   X|0.000672043010752...|2023-07-06 13:19:36|      95941|\n",
      "|75341|frequency|    ECDF_0|   CBM|   Y|0.000672043010752...|2023-07-06 13:19:36|      95941|\n",
      "|75342|frequency|    ECDF_0|   CBM|   Z|0.000672043010752...|2023-07-06 13:19:36|      95941|\n",
      "|75979|     time|    ECDF_0|   IMU|   X|1.681548369738855...|2023-07-06 13:19:36|      95942|\n",
      "|75980|     time|    ECDF_0|   IMU|   Y|1.681548369738855...|2023-07-06 13:19:36|      95942|\n",
      "|75981|     time|    ECDF_0|   IMU|   Z|1.681548369738855...|2023-07-06 13:19:36|      95942|\n",
      "|75982|     time|    ECDF_0|   IMU|  GX|1.681548369738855...|2023-07-06 13:19:36|      95942|\n",
      "|75983|     time|    ECDF_0|   IMU|  GY|1.681548369738855...|2023-07-06 13:19:36|      95942|\n",
      "|75984|     time|    ECDF_0|   IMU|  GZ|1.681548369738855...|2023-07-06 13:19:36|      95942|\n",
      "|75985|     time|    ECDF_0|   ACC|   X|1.076264072152743...|2023-07-06 13:19:36|      95942|\n",
      "|75986|     time|    ECDF_0|   ACC|   Y|1.076264072152743...|2023-07-06 13:19:36|      95942|\n",
      "+-----+---------+----------+------+----+--------------------+-------------------+-----------+\n",
      "only showing top 20 rows\n",
      "\n"
     ]
    },
    {
     "data": {
      "text/plain": [
       "24"
      ]
     },
     "execution_count": 58,
     "metadata": {},
     "output_type": "execute_result"
    }
   ],
   "source": [
    "# grab a dataframe where aggregator is ECDF_0\n",
    "\n",
    "df = spark.read.format(\"delta\").load(\"tmp/feature\")\n",
    "df.show()\n",
    "\n",
    "df.filter(df.aggregator == \"ECDF_0\").write.format(\"delta\").save(\"tmp/feature_ecdf_0\")\n",
    "\n",
    "spark.read.format(\"delta\").load(\"tmp/feature_ecdf_0\").show()\n",
    "\n",
    "spark.read.format(\"delta\").load(\"tmp/feature_ecdf_0\").count()\n",
    "\n"
   ]
  },
  {
   "cell_type": "code",
   "execution_count": 59,
   "metadata": {},
   "outputs": [
    {
     "name": "stdout",
     "output_type": "stream",
     "text": [
      "+-----+---------+----------+------+----+--------------------+-------------------+-----------+\n",
      "|   id|   domain|aggregator|sensor|axis|               value|        create_time|test_div_id|\n",
      "+-----+---------+----------+------+----+--------------------+-------------------+-----------+\n",
      "|75331|     time|    ECDF_0|   IMU|   X|3.607920106217168...|2023-07-06 13:19:36|      95941|\n",
      "|75332|     time|    ECDF_0|   IMU|   Y|3.607920106217168...|2023-07-06 13:19:36|      95941|\n",
      "|75333|     time|    ECDF_0|   IMU|   Z|3.607920106217168...|2023-07-06 13:19:36|      95941|\n",
      "|75334|     time|    ECDF_0|   IMU|  GX|3.607920106217168...|2023-07-06 13:19:36|      95941|\n",
      "|75335|     time|    ECDF_0|   IMU|  GY|3.607920106217168...|2023-07-06 13:19:36|      95941|\n",
      "|75336|     time|    ECDF_0|   IMU|  GZ|3.607920106217168...|2023-07-06 13:19:36|      95941|\n",
      "|75337|     time|    ECDF_0|   ACC|   X|2.258406919758802...|2023-07-06 13:19:36|      95941|\n",
      "|75338|     time|    ECDF_0|   ACC|   Y|2.258406919758802...|2023-07-06 13:19:36|      95941|\n",
      "|75339|     time|    ECDF_0|   ACC|   Z|2.258406919758802...|2023-07-06 13:19:36|      95941|\n",
      "|75340|frequency|    ECDF_0|   CBM|   X|0.000672043010752...|2023-07-06 13:19:36|      95941|\n",
      "|75341|frequency|    ECDF_0|   CBM|   Y|0.000672043010752...|2023-07-06 13:19:36|      95941|\n",
      "|75342|frequency|    ECDF_0|   CBM|   Z|0.000672043010752...|2023-07-06 13:19:36|      95941|\n",
      "|75343|     time|    ECDF_1|   IMU|   X|7.215840212434336...|2023-07-06 13:19:36|      95941|\n",
      "|75344|     time|    ECDF_1|   IMU|   Y|7.215840212434336...|2023-07-06 13:19:36|      95941|\n",
      "|75345|     time|    ECDF_1|   IMU|   Z|7.215840212434336...|2023-07-06 13:19:36|      95941|\n",
      "|75346|     time|    ECDF_1|   IMU|  GX|7.215840212434336...|2023-07-06 13:19:36|      95941|\n",
      "|75347|     time|    ECDF_1|   IMU|  GY|7.215840212434336...|2023-07-06 13:19:36|      95941|\n",
      "|75348|     time|    ECDF_1|   IMU|  GZ|7.215840212434336...|2023-07-06 13:19:36|      95941|\n",
      "|75349|     time|    ECDF_1|   ACC|   X|4.516813839517604...|2023-07-06 13:19:36|      95941|\n",
      "|75350|     time|    ECDF_1|   ACC|   Y|4.516813839517604...|2023-07-06 13:19:36|      95941|\n",
      "+-----+---------+----------+------+----+--------------------+-------------------+-----------+\n",
      "only showing top 20 rows\n",
      "\n",
      "+-----+------+----------+------+----+--------------------+-------------------+-----------+\n",
      "|   id|domain|aggregator|sensor|axis|               value|        create_time|test_div_id|\n",
      "+-----+------+----------+------+----+--------------------+-------------------+-----------+\n",
      "|75331|  time|    ECDF_0|   IMU|   X|3.607920106217168...|2023-07-06 13:19:36|      95941|\n",
      "|75332|  time|    ECDF_0|   IMU|   Y|3.607920106217168...|2023-07-06 13:19:36|      95941|\n",
      "|75333|  time|    ECDF_0|   IMU|   Z|3.607920106217168...|2023-07-06 13:19:36|      95941|\n",
      "|75334|  time|    ECDF_0|   IMU|  GX|3.607920106217168...|2023-07-06 13:19:36|      95941|\n",
      "|75335|  time|    ECDF_0|   IMU|  GY|3.607920106217168...|2023-07-06 13:19:36|      95941|\n",
      "|75336|  time|    ECDF_0|   IMU|  GZ|3.607920106217168...|2023-07-06 13:19:36|      95941|\n",
      "|75979|  time|    ECDF_0|   IMU|   X|1.681548369738855...|2023-07-06 13:19:36|      95942|\n",
      "|75980|  time|    ECDF_0|   IMU|   Y|1.681548369738855...|2023-07-06 13:19:36|      95942|\n",
      "|75981|  time|    ECDF_0|   IMU|   Z|1.681548369738855...|2023-07-06 13:19:36|      95942|\n",
      "|75982|  time|    ECDF_0|   IMU|  GX|1.681548369738855...|2023-07-06 13:19:36|      95942|\n",
      "|75983|  time|    ECDF_0|   IMU|  GY|1.681548369738855...|2023-07-06 13:19:36|      95942|\n",
      "|75984|  time|    ECDF_0|   IMU|  GZ|1.681548369738855...|2023-07-06 13:19:36|      95942|\n",
      "+-----+------+----------+------+----+--------------------+-------------------+-----------+\n",
      "\n"
     ]
    },
    {
     "data": {
      "text/plain": [
       "12"
      ]
     },
     "execution_count": 59,
     "metadata": {},
     "output_type": "execute_result"
    }
   ],
   "source": [
    "# grab a dataframe where aggregator is ECDF_0 and sensor is IMU\n",
    "df = spark.read.format(\"delta\").load(\"tmp/feature\")\n",
    "df.show()\n",
    "\n",
    "df.filter((df.aggregator == \"ECDF_0\") & (df.sensor == \"IMU\")).write.format(\"delta\").save(\"tmp/feature_ecdf_0_imu\")\n",
    "\n",
    "spark.read.format(\"delta\").load(\"tmp/feature_ecdf_0_imu\").show()\n",
    "spark.read.format(\"delta\").load(\"tmp/feature_ecdf_0_imu\").count()\n"
   ]
  },
  {
   "cell_type": "code",
   "execution_count": 71,
   "metadata": {},
   "outputs": [],
   "source": [
    "# create a dummy dataframe to be used for merge with feature ecdf_0 imu\n",
    "new_df = spark.read.format(\"csv\").option(\"header\", True).load(\"new_feature.csv\")\n",
    "\n",
    "delta_table = DeltaTable.forPath(spark, \"tmp/feature_ecdf_0_imu\")\n",
    "\n",
    "# filter the new_df where sensor == imu and aggregator == ecdf_0\n",
    "filtered_new_df = new_df.filter((col(\"sensor\") == \"IMU\") & (col(\"aggregator\") == \"ECDF_0\"))\n",
    "filtered_new_df.write.format(\"delta\").mode(\"overwrite\").save(\"tmp/filtered_new_df\")\n",
    "delta_filtered_new_df = spark.read.format(\"delta\").load(\"tmp/filtered_new_df\")\n",
    "\n",
    "delta_table.alias(\"oldData\").merge(\n",
    "    source = delta_filtered_new_df.alias(\"newData\"),\n",
    "    condition = \"oldData.id = newData.id\"\n",
    ").whenMatchedUpdateAll().execute()"
   ]
  },
  {
   "cell_type": "code",
   "execution_count": 69,
   "metadata": {},
   "outputs": [
    {
     "name": "stdout",
     "output_type": "stream",
     "text": [
      "+-----+------+----------+------+----+--------------------+-------------------+-----------+\n",
      "|   id|domain|aggregator|sensor|axis|               value|        create_time|test_div_id|\n",
      "+-----+------+----------+------+----+--------------------+-------------------+-----------+\n",
      "|15343|  time|    ECDF_0|   IMU|   X|6.584021243214336...|2023-07-10 11:09:52|      95941|\n",
      "+-----+------+----------+------+----+--------------------+-------------------+-----------+\n",
      "\n"
     ]
    }
   ],
   "source": [
    "delta_filtered_new_df.show()"
   ]
  },
  {
   "cell_type": "code",
   "execution_count": 72,
   "metadata": {},
   "outputs": [
    {
     "name": "stdout",
     "output_type": "stream",
     "text": [
      "+-----+------+----------+------+----+--------------------+-------------------+-----------+\n",
      "|   id|domain|aggregator|sensor|axis|               value|        create_time|test_div_id|\n",
      "+-----+------+----------+------+----+--------------------+-------------------+-----------+\n",
      "|75331|  time|    ECDF_0|   IMU|   X|3.607920106217168...|2023-07-06 13:19:36|      95941|\n",
      "|75332|  time|    ECDF_0|   IMU|   Y|3.607920106217168...|2023-07-06 13:19:36|      95941|\n",
      "|75333|  time|    ECDF_0|   IMU|   Z|3.607920106217168...|2023-07-06 13:19:36|      95941|\n",
      "|75334|  time|    ECDF_0|   IMU|  GX|3.607920106217168...|2023-07-06 13:19:36|      95941|\n",
      "|75335|  time|    ECDF_0|   IMU|  GY|3.607920106217168...|2023-07-06 13:19:36|      95941|\n",
      "|75336|  time|    ECDF_0|   IMU|  GZ|3.607920106217168...|2023-07-06 13:19:36|      95941|\n",
      "|75979|  time|    ECDF_0|   IMU|   X|1.681548369738855...|2023-07-06 13:19:36|      95942|\n",
      "|75980|  time|    ECDF_0|   IMU|   Y|1.681548369738855...|2023-07-06 13:19:36|      95942|\n",
      "|75981|  time|    ECDF_0|   IMU|   Z|1.681548369738855...|2023-07-06 13:19:36|      95942|\n",
      "|75982|  time|    ECDF_0|   IMU|  GX|1.681548369738855...|2023-07-06 13:19:36|      95942|\n",
      "|75983|  time|    ECDF_0|   IMU|  GY|1.681548369738855...|2023-07-06 13:19:36|      95942|\n",
      "|75984|  time|    ECDF_0|   IMU|  GZ|1.681548369738855...|2023-07-06 13:19:36|      95942|\n",
      "+-----+------+----------+------+----+--------------------+-------------------+-----------+\n",
      "\n"
     ]
    }
   ],
   "source": [
    "delta_table.toDF().show()"
   ]
  },
  {
   "cell_type": "code",
   "execution_count": 73,
   "metadata": {},
   "outputs": [],
   "source": [
    "updated_df = spark.read.format(\"delta\").load(\"tmp/feature_ecdf_0_imu\")"
   ]
  },
  {
   "cell_type": "code",
   "execution_count": 74,
   "metadata": {},
   "outputs": [
    {
     "name": "stdout",
     "output_type": "stream",
     "text": [
      "+-----+------+----------+------+----+--------------------+-------------------+-----------+\n",
      "|   id|domain|aggregator|sensor|axis|               value|        create_time|test_div_id|\n",
      "+-----+------+----------+------+----+--------------------+-------------------+-----------+\n",
      "|75331|  time|    ECDF_0|   IMU|   X|3.607920106217168...|2023-07-06 13:19:36|      95941|\n",
      "|75332|  time|    ECDF_0|   IMU|   Y|3.607920106217168...|2023-07-06 13:19:36|      95941|\n",
      "|75333|  time|    ECDF_0|   IMU|   Z|3.607920106217168...|2023-07-06 13:19:36|      95941|\n",
      "|75334|  time|    ECDF_0|   IMU|  GX|3.607920106217168...|2023-07-06 13:19:36|      95941|\n",
      "|75335|  time|    ECDF_0|   IMU|  GY|3.607920106217168...|2023-07-06 13:19:36|      95941|\n",
      "|75336|  time|    ECDF_0|   IMU|  GZ|3.607920106217168...|2023-07-06 13:19:36|      95941|\n",
      "|75979|  time|    ECDF_0|   IMU|   X|1.681548369738855...|2023-07-06 13:19:36|      95942|\n",
      "|75980|  time|    ECDF_0|   IMU|   Y|1.681548369738855...|2023-07-06 13:19:36|      95942|\n",
      "|75981|  time|    ECDF_0|   IMU|   Z|1.681548369738855...|2023-07-06 13:19:36|      95942|\n",
      "|75982|  time|    ECDF_0|   IMU|  GX|1.681548369738855...|2023-07-06 13:19:36|      95942|\n",
      "|75983|  time|    ECDF_0|   IMU|  GY|1.681548369738855...|2023-07-06 13:19:36|      95942|\n",
      "|75984|  time|    ECDF_0|   IMU|  GZ|1.681548369738855...|2023-07-06 13:19:36|      95942|\n",
      "+-----+------+----------+------+----+--------------------+-------------------+-----------+\n",
      "\n"
     ]
    }
   ],
   "source": [
    "updated_df.show()\n",
    "\n",
    "# didnt get updated because the id is got no match"
   ]
  },
  {
   "cell_type": "code",
   "execution_count": 76,
   "metadata": {},
   "outputs": [],
   "source": [
    "delta_table.alias(\"oldData\").merge(\n",
    "    source = delta_filtered_new_df.alias(\"newData\"),\n",
    "    condition = \"oldData.id = newData.id\"\n",
    ").whenMatchedUpdateAll().whenNotMatchedInsertAll().execute() # add insert all when not matched"
   ]
  },
  {
   "cell_type": "code",
   "execution_count": 77,
   "metadata": {},
   "outputs": [
    {
     "name": "stdout",
     "output_type": "stream",
     "text": [
      "+-----+------+----------+------+----+--------------------+-------------------+-----------+\n",
      "|   id|domain|aggregator|sensor|axis|               value|        create_time|test_div_id|\n",
      "+-----+------+----------+------+----+--------------------+-------------------+-----------+\n",
      "|75331|  time|    ECDF_0|   IMU|   X|3.607920106217168...|2023-07-06 13:19:36|      95941|\n",
      "|75332|  time|    ECDF_0|   IMU|   Y|3.607920106217168...|2023-07-06 13:19:36|      95941|\n",
      "|75333|  time|    ECDF_0|   IMU|   Z|3.607920106217168...|2023-07-06 13:19:36|      95941|\n",
      "|75334|  time|    ECDF_0|   IMU|  GX|3.607920106217168...|2023-07-06 13:19:36|      95941|\n",
      "|75335|  time|    ECDF_0|   IMU|  GY|3.607920106217168...|2023-07-06 13:19:36|      95941|\n",
      "|75336|  time|    ECDF_0|   IMU|  GZ|3.607920106217168...|2023-07-06 13:19:36|      95941|\n",
      "|75979|  time|    ECDF_0|   IMU|   X|1.681548369738855...|2023-07-06 13:19:36|      95942|\n",
      "|75980|  time|    ECDF_0|   IMU|   Y|1.681548369738855...|2023-07-06 13:19:36|      95942|\n",
      "|75981|  time|    ECDF_0|   IMU|   Z|1.681548369738855...|2023-07-06 13:19:36|      95942|\n",
      "|75982|  time|    ECDF_0|   IMU|  GX|1.681548369738855...|2023-07-06 13:19:36|      95942|\n",
      "|75983|  time|    ECDF_0|   IMU|  GY|1.681548369738855...|2023-07-06 13:19:36|      95942|\n",
      "|75984|  time|    ECDF_0|   IMU|  GZ|1.681548369738855...|2023-07-06 13:19:36|      95942|\n",
      "|15343|  time|    ECDF_0|   IMU|   X|6.584021243214336...|2023-07-10 11:09:52|      95941|\n",
      "+-----+------+----------+------+----+--------------------+-------------------+-----------+\n",
      "\n"
     ]
    }
   ],
   "source": [
    "updated_df = spark.read.format(\"delta\").load(\"tmp/feature_ecdf_0_imu\")\n",
    "updated_df.show()"
   ]
  },
  {
   "cell_type": "code",
   "execution_count": 87,
   "metadata": {},
   "outputs": [
    {
     "data": {
      "text/plain": [
       "StructType([StructField('id', StringType(), True), StructField('domain', StringType(), True), StructField('aggregator', StringType(), True), StructField('sensor', StringType(), True), StructField('axis', StringType(), True), StructField('value', StringType(), True), StructField('create_time', StringType(), True), StructField('test_div_id', StringType(), True)])"
      ]
     },
     "execution_count": 87,
     "metadata": {},
     "output_type": "execute_result"
    }
   ],
   "source": [
    "delta_df = spark.read.format(\"delta\").load(\"tmp/feature_ecdf_0_imu\")\n",
    "schema = delta_df.schema\n",
    "schema\n"
   ]
  },
  {
   "cell_type": "code",
   "execution_count": 89,
   "metadata": {},
   "outputs": [],
   "source": [
    "# Define the data for the single entry\n",
    "data = [75331, \"time\", \"ECDF_0\", \"IMU\", \"X\", 3.0, \"2023-07-06 13:19:36\", 95941]\n",
    "\n",
    "# Create a Row object representing the single entry\n",
    "single_entry_row = Row(*data)\n",
    "\n",
    "\n",
    "# Create a DataFrame with the single entry\n",
    "single_entry_df = spark.createDataFrame([single_entry_row], schema=schema)"
   ]
  },
  {
   "cell_type": "code",
   "execution_count": 90,
   "metadata": {},
   "outputs": [
    {
     "name": "stdout",
     "output_type": "stream",
     "text": [
      "+-----+------+----------+------+----+-----+-------------------+-----------+\n",
      "|   id|domain|aggregator|sensor|axis|value|        create_time|test_div_id|\n",
      "+-----+------+----------+------+----+-----+-------------------+-----------+\n",
      "|75331|  time|    ECDF_0|   IMU|   X|  3.0|2023-07-06 13:19:36|      95941|\n",
      "+-----+------+----------+------+----+-----+-------------------+-----------+\n",
      "\n"
     ]
    }
   ],
   "source": [
    "single_entry_df.show()"
   ]
  },
  {
   "cell_type": "code",
   "execution_count": 91,
   "metadata": {},
   "outputs": [],
   "source": [
    "delta_table.alias(\"oldData\").merge(\n",
    "    source = single_entry_df.alias(\"newData\"),\n",
    "    condition = \"oldData.id = newData.id\"\n",
    ").whenMatchedUpdateAll().execute()"
   ]
  },
  {
   "cell_type": "code",
   "execution_count": 93,
   "metadata": {},
   "outputs": [
    {
     "name": "stdout",
     "output_type": "stream",
     "text": [
      "+-----+------+----------+------+----+--------------------+-------------------+-----------+\n",
      "|   id|domain|aggregator|sensor|axis|               value|        create_time|test_div_id|\n",
      "+-----+------+----------+------+----+--------------------+-------------------+-----------+\n",
      "|75335|  time|    ECDF_0|   IMU|  GY|3.607920106217168...|2023-07-06 13:19:36|      95941|\n",
      "|75981|  time|    ECDF_0|   IMU|   Z|1.681548369738855...|2023-07-06 13:19:36|      95942|\n",
      "|75979|  time|    ECDF_0|   IMU|   X|1.681548369738855...|2023-07-06 13:19:36|      95942|\n",
      "|75331|  time|    ECDF_0|   IMU|   X|                 3.0|2023-07-06 13:19:36|      95941|\n",
      "|75334|  time|    ECDF_0|   IMU|  GX|3.607920106217168...|2023-07-06 13:19:36|      95941|\n",
      "|75984|  time|    ECDF_0|   IMU|  GZ|1.681548369738855...|2023-07-06 13:19:36|      95942|\n",
      "|75980|  time|    ECDF_0|   IMU|   Y|1.681548369738855...|2023-07-06 13:19:36|      95942|\n",
      "|75336|  time|    ECDF_0|   IMU|  GZ|3.607920106217168...|2023-07-06 13:19:36|      95941|\n",
      "|75332|  time|    ECDF_0|   IMU|   Y|3.607920106217168...|2023-07-06 13:19:36|      95941|\n",
      "|75983|  time|    ECDF_0|   IMU|  GY|1.681548369738855...|2023-07-06 13:19:36|      95942|\n",
      "|75982|  time|    ECDF_0|   IMU|  GX|1.681548369738855...|2023-07-06 13:19:36|      95942|\n",
      "|75333|  time|    ECDF_0|   IMU|   Z|3.607920106217168...|2023-07-06 13:19:36|      95941|\n",
      "|15343|  time|    ECDF_0|   IMU|   X|6.584021243214336...|2023-07-10 11:09:52|      95941|\n",
      "+-----+------+----------+------+----+--------------------+-------------------+-----------+\n",
      "\n"
     ]
    }
   ],
   "source": [
    "spark.read.format(\"delta\").load(\"tmp/feature_ecdf_0_imu\").show()"
   ]
  },
  {
   "cell_type": "code",
   "execution_count": 94,
   "metadata": {},
   "outputs": [],
   "source": [
    "# delete entry from delta table where axis = GY\n",
    "\n",
    "delta_table.delete(condition = \"axis = 'GY'\")"
   ]
  },
  {
   "cell_type": "code",
   "execution_count": 17,
   "metadata": {},
   "outputs": [
    {
     "name": "stdout",
     "output_type": "stream",
     "text": [
      "+-----+------+----------+------+----+--------------------+-------------------+-----------+\n",
      "|   id|domain|aggregator|sensor|axis|               value|        create_time|test_div_id|\n",
      "+-----+------+----------+------+----+--------------------+-------------------+-----------+\n",
      "|75981|  time|    ECDF_0|   IMU|   Z|1.681548369738855...|2023-07-06 13:19:36|      95942|\n",
      "|75979|  time|    ECDF_0|   IMU|   X|1.681548369738855...|2023-07-06 13:19:36|      95942|\n",
      "|75331|  time|    ECDF_0|   IMU|   X|                 3.0|2023-07-06 13:19:36|      95941|\n",
      "|75334|  time|    ECDF_0|   IMU|  GX|3.607920106217168...|2023-07-06 13:19:36|      95941|\n",
      "|75984|  time|    ECDF_0|   IMU|  GZ|1.681548369738855...|2023-07-06 13:19:36|      95942|\n",
      "|75980|  time|    ECDF_0|   IMU|   Y|1.681548369738855...|2023-07-06 13:19:36|      95942|\n",
      "|75336|  time|    ECDF_0|   IMU|  GZ|3.607920106217168...|2023-07-06 13:19:36|      95941|\n",
      "|75332|  time|    ECDF_0|   IMU|   Y|3.607920106217168...|2023-07-06 13:19:36|      95941|\n",
      "|75982|  time|    ECDF_0|   IMU|  GX|1.681548369738855...|2023-07-06 13:19:36|      95942|\n",
      "|75333|  time|    ECDF_0|   IMU|   Z|3.607920106217168...|2023-07-06 13:19:36|      95941|\n",
      "|15343|  time|    ECDF_0|   IMU|   X|6.584021243214336...|2023-07-10 11:09:52|      95941|\n",
      "+-----+------+----------+------+----+--------------------+-------------------+-----------+\n",
      "\n"
     ]
    }
   ],
   "source": [
    "spark.read.format(\"delta\").load(\"tmp/feature_ecdf_0_imu\").show()"
   ]
  },
  {
   "cell_type": "code",
   "execution_count": null,
   "metadata": {},
   "outputs": [],
   "source": []
  }
 ],
 "metadata": {
  "kernelspec": {
   "display_name": "Python 3",
   "language": "python",
   "name": "python3"
  },
  "language_info": {
   "codemirror_mode": {
    "name": "ipython",
    "version": 3
   },
   "file_extension": ".py",
   "mimetype": "text/x-python",
   "name": "python",
   "nbconvert_exporter": "python",
   "pygments_lexer": "ipython3",
   "version": "3.11.0"
  }
 },
 "nbformat": 4,
 "nbformat_minor": 2
}
